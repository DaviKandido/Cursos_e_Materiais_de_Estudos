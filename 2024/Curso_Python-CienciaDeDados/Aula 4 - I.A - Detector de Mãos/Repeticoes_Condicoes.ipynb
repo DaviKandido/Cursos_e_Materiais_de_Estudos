{
 "cells": [
  {
   "cell_type": "markdown",
   "metadata": {},
   "source": [
    "# Projeto 4\n",
    "\n",
    "Bibliotecas:\n",
    "\n",
    "-``pip install opencv-python``\n",
    "-``pip install mediapipe``\n",
    "-``pip install cvzone``"
   ]
  },
  {
   "cell_type": "markdown",
   "metadata": {},
   "source": [
    "### Loopings com ``while``"
   ]
  },
  {
   "cell_type": "code",
   "execution_count": 5,
   "metadata": {},
   "outputs": [
    {
     "name": "stdout",
     "output_type": "stream",
     "text": [
      "1\n",
      "2\n",
      "3\n",
      "4\n",
      "5\n",
      "5\n",
      "4\n",
      "3\n",
      "2\n",
      "1\n"
     ]
    }
   ],
   "source": [
    "#Pelo for\n",
    "numeros_box = {1,2,3,4,5}\n",
    "\n",
    "for numeros in numeros_box:\n",
    "    print(numeros)\n",
    "\n",
    "# Pelo while\n",
    "contador = 5\n",
    "\n",
    "while contador > 0:\n",
    "    print(contador)\n",
    "    contador = contador - 1"
   ]
  },
  {
   "cell_type": "markdown",
   "metadata": {},
   "source": [
    "### Testes lógicos com ``if``"
   ]
  },
  {
   "cell_type": "code",
   "execution_count": 13,
   "metadata": {},
   "outputs": [
    {
     "name": "stdout",
     "output_type": "stream",
     "text": [
      "Você está aprendendo Python\n",
      "Você está aprendendo Python\n"
     ]
    }
   ],
   "source": [
    "# linguagem = \"Rust\"\n",
    "linguagem = \"Python\"\n",
    "\n",
    "if linguagem == \"Python\":\n",
    "    print(\"Você está aprendendo Python\")\n",
    "else:\n",
    "    print(\"Você está aprendendo outra linguagem\")\n",
    "\n",
    "\n",
    "if linguagem != \"Python\":\n",
    "    print(\"Você está aprendendo outra linguagem\")\n",
    "else:\n",
    "    print(\"Você está aprendendo Python\")"
   ]
  },
  {
   "cell_type": "markdown",
   "metadata": {},
   "source": [
    "### Loopings infinitos"
   ]
  },
  {
   "cell_type": "code",
   "execution_count": 16,
   "metadata": {},
   "outputs": [
    {
     "name": "stdout",
     "output_type": "stream",
     "text": [
      "oi\n",
      "todo\n",
      "parar\n"
     ]
    }
   ],
   "source": [
    "while True:\n",
    "    mensagem = input(\"Digite algo: \")\n",
    "    print(mensagem)\n",
    "\n",
    "    if(mensagem == \"parar\"):\n",
    "        break   "
   ]
  }
 ],
 "metadata": {
  "kernelspec": {
   "display_name": "Python 3",
   "language": "python",
   "name": "python3"
  },
  "language_info": {
   "codemirror_mode": {
    "name": "ipython",
    "version": 3
   },
   "file_extension": ".py",
   "mimetype": "text/x-python",
   "name": "python",
   "nbconvert_exporter": "python",
   "pygments_lexer": "ipython3",
   "version": "3.11.9"
  }
 },
 "nbformat": 4,
 "nbformat_minor": 2
}
